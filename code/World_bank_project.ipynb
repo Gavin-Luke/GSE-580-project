{
 "cells": [
  {
   "cell_type": "code",
   "execution_count": 5,
   "metadata": {
    "colab": {
     "base_uri": "https://localhost:8080/"
    },
    "id": "FkZdJAxYk1do",
    "outputId": "38f75d5b-a674-4a33-ca3c-fe552eb40a77"
   },
   "outputs": [
    {
     "name": "stdout",
     "output_type": "stream",
     "text": [
      "Requirement already satisfied: numpy in c:\\users\\caleb jensen\\anaconda3\\lib\\site-packages (1.24.3)\n"
     ]
    }
   ],
   "source": [
    "!pip install -q -U google-generativeai"
   ]
  },
  {
   "cell_type": "code",
   "execution_count": 74,
   "metadata": {
    "id": "ou754NIel5e2",
    "scrolled": true
   },
   "outputs": [],
   "source": [
    "import pathlib\n",
    "import textwrap\n",
    "\n",
    "import google.generativeai as genai\n",
    "import numpy as np\n",
    "import pandas as pd\n",
    "\n",
    "from IPython.display import display\n",
    "from IPython.display import Markdown"
   ]
  },
  {
   "cell_type": "code",
   "execution_count": 75,
   "metadata": {
    "id": "02ZxQClTmJ7Q"
   },
   "outputs": [],
   "source": [
    "from config import GOOGLE_API_KEY\n",
    "\n",
    "genai.configure(api_key=GOOGLE_API_KEY)"
   ]
  },
  {
   "cell_type": "code",
   "execution_count": 8,
   "metadata": {
    "id": "ongLuycOmUht"
   },
   "outputs": [
    {
     "name": "stdout",
     "output_type": "stream",
     "text": [
      "models/gemini-1.0-pro\n",
      "models/gemini-1.0-pro-001\n",
      "models/gemini-1.0-pro-latest\n",
      "models/gemini-1.0-pro-vision-latest\n",
      "models/gemini-pro\n",
      "models/gemini-pro-vision\n"
     ]
    }
   ],
   "source": [
    "for m in genai.list_models():\n",
    "  if 'generateContent' in m.supported_generation_methods:\n",
    "    print(m.name)"
   ]
  },
  {
   "cell_type": "code",
   "execution_count": 76,
   "metadata": {
    "id": "cKT0czkpnG79"
   },
   "outputs": [],
   "source": [
    "model = genai.GenerativeModel('gemini-pro')"
   ]
  },
  {
   "cell_type": "code",
   "execution_count": 14,
   "metadata": {
    "colab": {
     "base_uri": "https://localhost:8080/",
     "height": 52
    },
    "id": "cXCAk8dNnMVh",
    "outputId": "a272ec21-ab28-46d8-ae08-7996d555027f"
   },
   "outputs": [
    {
     "name": "stdout",
     "output_type": "stream",
     "text": [
      "CPU times: user 57 ms, sys: 5.14 ms, total: 62.1 ms\n",
      "Wall time: 4.8 s\n"
     ]
    }
   ],
   "source": [
    "%%time\n",
    "response = model.generate_content(\"What is the meaning of life?\")"
   ]
  },
  {
   "cell_type": "code",
   "execution_count": 113,
   "metadata": {
    "colab": {
     "base_uri": "https://localhost:8080/",
     "height": 87
    },
    "id": "lBEpx9Hdne3h",
    "outputId": "7a63d916-99b9-4ee2-f0d8-a9e8b0de0225"
   },
   "outputs": [
    {
     "data": {
      "text/plain": [
       "'| Three Digit Code (ISIC v4) | Four Digit Code (ISIC v3.1) | Proportion |\\n|---|---|---|\\n| 239 | 2692 | 25% |\\n| 239 | 2691 | 20% |\\n| 239 | 2693 | 15% |\\n| 239 | 2694 | 10% |\\n| 239 | 2695 | 10% |\\n| 239 | 2696 | 5% |\\n| 239 | 2699 | 15% |'"
      ]
     },
     "execution_count": 113,
     "metadata": {},
     "output_type": "execute_result"
    }
   ],
   "source": [
    "response = model.generate_content(make_prompt(\"3\", \"239\"))\n",
    "response.text"
   ]
  },
  {
   "cell_type": "code",
   "execution_count": 114,
   "metadata": {
    "colab": {
     "base_uri": "https://localhost:8080/"
    },
    "id": "RBfBcor7rFFB",
    "outputId": "2038efa4-689d-428f-cba2-584098ea9634"
   },
   "outputs": [
    {
     "name": "stdout",
     "output_type": "stream",
     "text": [
      "<_io.StringIO object at 0x000002018B367250>\n"
     ]
    }
   ],
   "source": [
    "from io import StringIO\n",
    "import csv\n",
    "\n",
    "# Define the data string\n",
    "data_string = response.text\n",
    "\n",
    "# Create a StringIO object to mimic a file-like object\n",
    "data_io = StringIO(data_string)\n",
    "print(data_io)"
   ]
  },
  {
   "cell_type": "code",
   "execution_count": 115,
   "metadata": {
    "colab": {
     "base_uri": "https://localhost:8080/",
     "height": 269
    },
    "id": "GKH4j_lJ4NDs",
    "outputId": "cd54055a-6328-4776-cde4-2e9f35d94f96"
   },
   "outputs": [
    {
     "data": {
      "text/html": [
       "<div>\n",
       "<style scoped>\n",
       "    .dataframe tbody tr th:only-of-type {\n",
       "        vertical-align: middle;\n",
       "    }\n",
       "\n",
       "    .dataframe tbody tr th {\n",
       "        vertical-align: top;\n",
       "    }\n",
       "\n",
       "    .dataframe thead th {\n",
       "        text-align: right;\n",
       "    }\n",
       "</style>\n",
       "<table border=\"1\" class=\"dataframe\">\n",
       "  <thead>\n",
       "    <tr style=\"text-align: right;\">\n",
       "      <th></th>\n",
       "      <th>Unnamed: 0</th>\n",
       "      <th>Three Digit Code (ISIC v4)</th>\n",
       "      <th>Four Digit Code (ISIC v3.1)</th>\n",
       "      <th>Proportion</th>\n",
       "      <th>Unnamed: 4</th>\n",
       "    </tr>\n",
       "  </thead>\n",
       "  <tbody>\n",
       "    <tr>\n",
       "      <th>0</th>\n",
       "      <td>NaN</td>\n",
       "      <td>239</td>\n",
       "      <td>2692</td>\n",
       "      <td>25%</td>\n",
       "      <td>NaN</td>\n",
       "    </tr>\n",
       "    <tr>\n",
       "      <th>1</th>\n",
       "      <td>NaN</td>\n",
       "      <td>239</td>\n",
       "      <td>2691</td>\n",
       "      <td>20%</td>\n",
       "      <td>NaN</td>\n",
       "    </tr>\n",
       "    <tr>\n",
       "      <th>2</th>\n",
       "      <td>NaN</td>\n",
       "      <td>239</td>\n",
       "      <td>2693</td>\n",
       "      <td>15%</td>\n",
       "      <td>NaN</td>\n",
       "    </tr>\n",
       "    <tr>\n",
       "      <th>3</th>\n",
       "      <td>NaN</td>\n",
       "      <td>239</td>\n",
       "      <td>2694</td>\n",
       "      <td>10%</td>\n",
       "      <td>NaN</td>\n",
       "    </tr>\n",
       "    <tr>\n",
       "      <th>4</th>\n",
       "      <td>NaN</td>\n",
       "      <td>239</td>\n",
       "      <td>2695</td>\n",
       "      <td>10%</td>\n",
       "      <td>NaN</td>\n",
       "    </tr>\n",
       "    <tr>\n",
       "      <th>5</th>\n",
       "      <td>NaN</td>\n",
       "      <td>239</td>\n",
       "      <td>2696</td>\n",
       "      <td>5%</td>\n",
       "      <td>NaN</td>\n",
       "    </tr>\n",
       "    <tr>\n",
       "      <th>6</th>\n",
       "      <td>NaN</td>\n",
       "      <td>239</td>\n",
       "      <td>2699</td>\n",
       "      <td>15%</td>\n",
       "      <td>NaN</td>\n",
       "    </tr>\n",
       "  </tbody>\n",
       "</table>\n",
       "</div>"
      ],
      "text/plain": [
       "   Unnamed: 0  Three Digit Code (ISIC v4)   Four Digit Code (ISIC v3.1)   \\\n",
       "0         NaN                         239                          2692    \n",
       "1         NaN                         239                          2691    \n",
       "2         NaN                         239                          2693    \n",
       "3         NaN                         239                          2694    \n",
       "4         NaN                         239                          2695    \n",
       "5         NaN                         239                          2696    \n",
       "6         NaN                         239                          2699    \n",
       "\n",
       "   Proportion   Unnamed: 4  \n",
       "0         25%          NaN  \n",
       "1         20%          NaN  \n",
       "2         15%          NaN  \n",
       "3         10%          NaN  \n",
       "4         10%          NaN  \n",
       "5          5%          NaN  \n",
       "6         15%          NaN  "
      ]
     },
     "execution_count": 115,
     "metadata": {},
     "output_type": "execute_result"
    }
   ],
   "source": [
    "df_2 = pd.read_csv(data_io, delimiter=\"|\")\n",
    "df_2 = df_2.iloc[1:].reset_index(drop = True)\n",
    "df_2\n"
   ]
  },
  {
   "cell_type": "code",
   "execution_count": 116,
   "metadata": {
    "colab": {
     "base_uri": "https://localhost:8080/",
     "height": 269
    },
    "id": "o9UxcaYP5fpP",
    "outputId": "fe88263e-cad2-415b-c253-7a5c02be0659"
   },
   "outputs": [
    {
     "data": {
      "text/html": [
       "<div>\n",
       "<style scoped>\n",
       "    .dataframe tbody tr th:only-of-type {\n",
       "        vertical-align: middle;\n",
       "    }\n",
       "\n",
       "    .dataframe tbody tr th {\n",
       "        vertical-align: top;\n",
       "    }\n",
       "\n",
       "    .dataframe thead th {\n",
       "        text-align: right;\n",
       "    }\n",
       "</style>\n",
       "<table border=\"1\" class=\"dataframe\">\n",
       "  <thead>\n",
       "    <tr style=\"text-align: right;\">\n",
       "      <th></th>\n",
       "      <th>Three Digit Code (ISIC v4)</th>\n",
       "      <th>Four Digit Code (ISIC v3.1)</th>\n",
       "      <th>Proportion</th>\n",
       "    </tr>\n",
       "  </thead>\n",
       "  <tbody>\n",
       "    <tr>\n",
       "      <th>0</th>\n",
       "      <td>239</td>\n",
       "      <td>2692</td>\n",
       "      <td>25%</td>\n",
       "    </tr>\n",
       "    <tr>\n",
       "      <th>1</th>\n",
       "      <td>239</td>\n",
       "      <td>2691</td>\n",
       "      <td>20%</td>\n",
       "    </tr>\n",
       "    <tr>\n",
       "      <th>2</th>\n",
       "      <td>239</td>\n",
       "      <td>2693</td>\n",
       "      <td>15%</td>\n",
       "    </tr>\n",
       "    <tr>\n",
       "      <th>3</th>\n",
       "      <td>239</td>\n",
       "      <td>2694</td>\n",
       "      <td>10%</td>\n",
       "    </tr>\n",
       "    <tr>\n",
       "      <th>4</th>\n",
       "      <td>239</td>\n",
       "      <td>2695</td>\n",
       "      <td>10%</td>\n",
       "    </tr>\n",
       "    <tr>\n",
       "      <th>5</th>\n",
       "      <td>239</td>\n",
       "      <td>2696</td>\n",
       "      <td>5%</td>\n",
       "    </tr>\n",
       "    <tr>\n",
       "      <th>6</th>\n",
       "      <td>239</td>\n",
       "      <td>2699</td>\n",
       "      <td>15%</td>\n",
       "    </tr>\n",
       "  </tbody>\n",
       "</table>\n",
       "</div>"
      ],
      "text/plain": [
       "   Three Digit Code (ISIC v4)   Four Digit Code (ISIC v3.1)   Proportion \n",
       "0                         239                          2692          25% \n",
       "1                         239                          2691          20% \n",
       "2                         239                          2693          15% \n",
       "3                         239                          2694          10% \n",
       "4                         239                          2695          10% \n",
       "5                         239                          2696           5% \n",
       "6                         239                          2699          15% "
      ]
     },
     "execution_count": 116,
     "metadata": {},
     "output_type": "execute_result"
    }
   ],
   "source": [
    "names = df_2.columns\n",
    "for name in names: \n",
    "    if \"Unnamed\" in name:\n",
    "        df_2 = df_2.drop(columns = [name])\n",
    "df_2"
   ]
  },
  {
   "cell_type": "code",
   "execution_count": 11,
   "metadata": {
    "colab": {
     "base_uri": "https://localhost:8080/"
    },
    "id": "opFvaeyK7EbW",
    "outputId": "2a4fd836-0ccd-4d14-931d-074c0732665c"
   },
   "outputs": [
    {
     "name": "stdout",
     "output_type": "stream",
     "text": [
      "Index(['Unnamed: 0', ' Previous Code in Version 3.1 ',\n",
      "       ' Proportion of Jobs Now Coded in 239 ', 'Unnamed: 3'],\n",
      "      dtype='object')\n",
      "Index([' Previous Code in Version 3.1 ', ' Proportion of Jobs Now Coded in 239 '], dtype='object')\n"
     ]
    }
   ],
   "source": []
  },
  {
   "cell_type": "code",
   "execution_count": 100,
   "metadata": {
    "colab": {
     "base_uri": "https://localhost:8080/",
     "height": 269
    },
    "id": "RStxi_IR6dsJ",
    "outputId": "51ec3d20-7486-45dc-995f-5c1d666c2f61"
   },
   "outputs": [
    {
     "data": {
      "text/html": [
       "<div>\n",
       "<style scoped>\n",
       "    .dataframe tbody tr th:only-of-type {\n",
       "        vertical-align: middle;\n",
       "    }\n",
       "\n",
       "    .dataframe tbody tr th {\n",
       "        vertical-align: top;\n",
       "    }\n",
       "\n",
       "    .dataframe thead th {\n",
       "        text-align: right;\n",
       "    }\n",
       "</style>\n",
       "<table border=\"1\" class=\"dataframe\">\n",
       "  <thead>\n",
       "    <tr style=\"text-align: right;\">\n",
       "      <th></th>\n",
       "      <th>Original ISIC Code</th>\n",
       "      <th>Proportion of Jobs Now Coded in 239</th>\n",
       "    </tr>\n",
       "  </thead>\n",
       "  <tbody>\n",
       "    <tr>\n",
       "      <th>0</th>\n",
       "      <td>2691</td>\n",
       "      <td>0.30</td>\n",
       "    </tr>\n",
       "    <tr>\n",
       "      <th>1</th>\n",
       "      <td>2692</td>\n",
       "      <td>0.20</td>\n",
       "    </tr>\n",
       "    <tr>\n",
       "      <th>2</th>\n",
       "      <td>2693</td>\n",
       "      <td>0.15</td>\n",
       "    </tr>\n",
       "    <tr>\n",
       "      <th>3</th>\n",
       "      <td>2694</td>\n",
       "      <td>0.20</td>\n",
       "    </tr>\n",
       "    <tr>\n",
       "      <th>4</th>\n",
       "      <td>2695</td>\n",
       "      <td>0.05</td>\n",
       "    </tr>\n",
       "    <tr>\n",
       "      <th>5</th>\n",
       "      <td>2696</td>\n",
       "      <td>0.05</td>\n",
       "    </tr>\n",
       "    <tr>\n",
       "      <th>6</th>\n",
       "      <td>2699</td>\n",
       "      <td>0.05</td>\n",
       "    </tr>\n",
       "  </tbody>\n",
       "</table>\n",
       "</div>"
      ],
      "text/plain": [
       "   Original ISIC Code    Proportion of Jobs Now Coded in 239 \n",
       "0                2691                                    0.30\n",
       "1                2692                                    0.20\n",
       "2                2693                                    0.15\n",
       "3                2694                                    0.20\n",
       "4                2695                                    0.05\n",
       "5                2696                                    0.05\n",
       "6                2699                                    0.05"
      ]
     },
     "execution_count": 100,
     "metadata": {},
     "output_type": "execute_result"
    }
   ],
   "source": [
    "names = df_2.columns\n",
    "df_2[names[-1]] = df_2[names[-1]].str.strip()\n",
    "df_2[names[-1]] = df_2[names[-1]].str.replace(\"%\", \"\")\n",
    "df_2[names[-1]] = df_2[names[-1]].astype(float) / 100\n",
    "df_2"
   ]
  },
  {
   "cell_type": "code",
   "execution_count": 122,
   "metadata": {
    "id": "973p9-Mpg35r"
   },
   "outputs": [],
   "source": [
    "##Function takes the created prompt and returns a dataframe that has proportions showing how each 3 digit cade in ISIC 4 is created in ISIC 3.1\n",
    "\n",
    "def get_proportions(prompt):\n",
    "    from io import StringIO\n",
    "    import csv\n",
    "    import pathlib\n",
    "    import textwrap\n",
    "    import google.generativeai as genai\n",
    "    import numpy as np\n",
    "    import pandas as pd\n",
    "    from config import GOOGLE_API_KEY\n",
    "    \n",
    "    \n",
    "    #setting the model and API key\n",
    "    genai.configure(api_key=GOOGLE_API_KEY)\n",
    "    model = genai.GenerativeModel('gemini-pro')\n",
    "    \n",
    "    # Input string prompt to the google model \n",
    "    response = model.generate_content(prompt)\n",
    "    \n",
    "    # Define the data string\n",
    "    data_string = response.text\n",
    "    \n",
    "    # Create a StringIO object to mimic a file-like object\n",
    "    data_io = StringIO(data_string)\n",
    "    \n",
    "    # Create first df to be cleaned and returned \n",
    "    df = pd.read_csv(data_io, delimiter=\"|\")\n",
    "    \n",
    "    # Drop empty top row \n",
    "    df = df.iloc[1:].reset_index(drop = True)\n",
    "    \n",
    "    # Drop empty columns\n",
    "    names = df.columns\n",
    "    for name in names: \n",
    "        if \"Unnamed\" in name: \n",
    "            df = df.drop(columns = [name])\n",
    "    \n",
    "    # Making proportion column a float between 0 and 1\n",
    "    names = df.columns\n",
    "    names_2 = [\"three_code\", \"four_code\", \"Proportion of Jobs\"]\n",
    "    df.columns = names_2\n",
    "    df[\"Proportion of Jobs\"] = df[\"Proportion of Jobs\"].str.strip()\n",
    "    df[\"Proportion of Jobs\"] = df[\"Proportion of Jobs\"].str.replace(\"%\", \"\")\n",
    "    df[\"Proportion of Jobs\"] = df[\"Proportion of Jobs\"].astype(float) \n",
    "    if df[\"Proportion of Jobs\"][0] > 1:\n",
    "        df[\"Proportion of Jobs\"] = df[\"Proportion of Jobs\"]/100\n",
    "    \n",
    "    # Replace non-numeric characters with an empty string\n",
    "    pattern = r'\\D'  # Matches any non-digit character\n",
    "    df[\"three_code\"] = df[\"three_code\"].str.replace(pattern, '')    \n",
    "    df[\"four_code\"] = df[\"four_code\"].str.replace(pattern, '')\n",
    "    return df"
   ]
  },
  {
   "cell_type": "code",
   "execution_count": 25,
   "metadata": {},
   "outputs": [],
   "source": [
    "## Creating a usable prompt \n",
    "## Start by importing the correspondence table and .txt files with with codes and descriptions\n",
    "corr_table = pd.read_csv(\"ISIC4_ISIC31.csv\", dtype={\"ISIC4code\": str, \"partialISIC4\": str, \"ISIC31code\": str, \"partialISIC31\": str})\n",
    "corr_table = corr_table.fillna(\"\")\n",
    "ISIC_4 = pd.read_csv(\"isic4.txt\", dtype={'num': str}, delimiter = \"|\")\n",
    "ISIC_31 = pd.read_csv(\"isic31.txt\", dtype={'num': str}, delimiter = \"|\")\n",
    "col_names = [\"code\", \"description\"]\n",
    "ISIC_4.columns = col_names\n",
    "ISIC_31.columns = col_names"
   ]
  },
  {
   "cell_type": "code",
   "execution_count": 26,
   "metadata": {},
   "outputs": [],
   "source": [
    "# Cleaning data and making dfs for each code length \n",
    "code_length_4 = ISIC_4['code'].str.len()\n",
    "code_length_31 = ISIC_31['code'].str.len()\n",
    "\n",
    "# Filter DataFrames based on code length\n",
    "ISIC_4_2digit = ISIC_4[code_length_4 == 2]\n",
    "ISIC_4_3digit = ISIC_4[code_length_4 == 3]\n",
    "ISIC_4_4digit = ISIC_4[code_length_4 == 4]\n",
    "\n",
    "ISIC_3_2digit = ISIC_31[code_length_31 == 2]\n",
    "ISIC_3_3digit = ISIC_31[code_length_31 == 3]\n",
    "ISIC_3_4digit = ISIC_31[code_length_31 == 4]\n",
    "\n",
    "# Making 3 digit and 2 digit 4.0 codes columns in the correspondence table \n",
    "corr_table['ISIC_4_3d'] = corr_table['ISIC4code'].str[:3]\n",
    "corr_table['ISIC_4_2d'] = corr_table['ISIC4code'].str[:2]"
   ]
  },
  {
   "cell_type": "code",
   "execution_count": 109,
   "metadata": {},
   "outputs": [],
   "source": [
    "def make_prompt(digits, three_code):\n",
    "    num_codes = corr_table[\"ISIC_4_3d\"].value_counts()\n",
    "    prompt = \"A \" + digits + \" digit code \"+ three_code + \" which is \" + str(ISIC_4_3digit[ISIC_4_3digit[\"code\"] == three_code][\"description\"].iloc[0]) + \" in ISIC version 4 is comprised of \" + str(num_codes[three_code]) + \" in ISICs version 3.1, \"\n",
    "    codes_31 = corr_table[corr_table[\"ISIC_4_3d\"] == three_code]\n",
    "    ## Code to handle when there are multiple instances of a code and possibly multiple \"details\" for that code in the correspondence table\n",
    "    for code in codes_31[\"ISIC31code\"].unique(): \n",
    "        ## start by just adding the code and its standard description from the ISIC code data frame\n",
    "        prompt = prompt + code + \" which is (\" + ISIC_3_4digit[ISIC_3_4digit['code'] == code]['description'].iloc[0] + \"), \"\n",
    "        ## now test if the code is unique, that is, it only appears once within the 3 digit code we are considering from version 4\n",
    "        if codes_31['ISIC31code'].eq(code).sum() == 1:\n",
    "            ## If it is unique, we test if the detail column of the correspondence table is empty, if it is not we add that extra detail to the prompt\n",
    "            if codes_31[codes_31[\"ISIC31code\"] == code][\"Detail\"].iloc[0] != \"\":\n",
    "                prompt = prompt + \" and includes (\" + codes_31[codes_31[\"ISIC31code\"] == code][\"Detail\"].iloc[0] + \") \"\n",
    "        elif codes_31['ISIC31code'].eq(code).sum() > 1:\n",
    "            ## we now test if the code is not unique, if this is the case our code is more complicated, start by making an index list that will track appearances of this code\n",
    "            ind = []\n",
    "            ## Now we will loop through the instances of the code and add the index of each instance if the detail section is not empty, we are collecting all the different details to include \n",
    "            for i in range(codes_31['ISIC31code'].eq(code).sum()):\n",
    "                if codes_31[codes_31[\"ISIC31code\"] == code][\"Detail\"].iloc[i] != \"\":\n",
    "                    ind.append(i)\n",
    "            ## If the code is repeated but never with a detail the prompt remains unchanged\n",
    "            if len(ind) == 0:\n",
    "                prompt = prompt\n",
    "            ## If the code is repeated but only with 1 detail, just include that single detail\n",
    "            elif len(ind) == 1:\n",
    "                prompt = prompt + \"and includes (\" + codes_31[codes_31[\"ISIC31code\"] == code][\"Detail\"].iloc[ind[0]] + \", \"\n",
    "            ## If the code is repeated with multiple details, start with the first detail and drop the first item in the list so it is not repeated, then loop through the list adding all the details\n",
    "            else: \n",
    "                prompt = prompt + \" and includes (\" + codes_31[codes_31[\"ISIC31code\"] == code][\"Detail\"].iloc[ind[0]]\n",
    "                ind = ind[1:]\n",
    "                for k in ind:\n",
    "                    prompt = prompt + \", and (\" + codes_31[codes_31[\"ISIC31code\"] == code][\"Detail\"].iloc[k] + \")\"\n",
    "    prompt = prompt + \" What is your best estimate of the proportion of jobs now coded in 239 that were in each of the previous codes in version 3.1? Can you give me your best guesses in a table with 3 columns, first the three digit code, then the four didgit codes, then the proportions?\"\n",
    "    return prompt"
   ]
  },
  {
   "cell_type": "code",
   "execution_count": 124,
   "metadata": {},
   "outputs": [
    {
     "name": "stdout",
     "output_type": "stream",
     "text": [
      "  three_code four_code  Proportion of Jobs\n",
      "0       239      2692                  0.4\n",
      "1       239      2691                  0.2\n",
      "2       239      2693                  0.1\n",
      "3       239      2694                  0.1\n",
      "4       239      2695                  0.1\n",
      "5       239      2696                  0.1\n",
      "6       239      2699                  0.1\n"
     ]
    }
   ],
   "source": [
    "prompt = make_prompt(\"3\", \"239\")\n",
    "df = get_proportions(prompt)\n",
    "print(df)"
   ]
  }
 ],
 "metadata": {
  "colab": {
   "provenance": []
  },
  "kernelspec": {
   "display_name": "Python 3 (ipykernel)",
   "language": "python",
   "name": "python3"
  },
  "language_info": {
   "codemirror_mode": {
    "name": "ipython",
    "version": 3
   },
   "file_extension": ".py",
   "mimetype": "text/x-python",
   "name": "python",
   "nbconvert_exporter": "python",
   "pygments_lexer": "ipython3",
   "version": "3.11.5"
  }
 },
 "nbformat": 4,
 "nbformat_minor": 1
}
